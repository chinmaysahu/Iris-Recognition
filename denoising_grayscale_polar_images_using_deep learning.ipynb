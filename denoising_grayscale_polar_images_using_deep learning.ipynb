{
  "nbformat": 4,
  "nbformat_minor": 0,
  "metadata": {
    "colab": {
      "provenance": [],
      "include_colab_link": true
    },
    "kernelspec": {
      "name": "python3",
      "display_name": "Python 3"
    },
    "language_info": {
      "name": "python"
    },
    "gpuClass": "standard"
  },
  "cells": [
    {
      "cell_type": "markdown",
      "metadata": {
        "id": "view-in-github",
        "colab_type": "text"
      },
      "source": [
        "<a href=\"https://colab.research.google.com/github/chinmaysahu/Iris-Recognition/blob/master/denoising_grayscale_polar_images_using_deep%20learning.ipynb\" target=\"_parent\"><img src=\"https://colab.research.google.com/assets/colab-badge.svg\" alt=\"Open In Colab\"/></a>"
      ]
    },
    {
      "cell_type": "markdown",
      "source": [
        "https://youtu.be/71wqPyapFGU"
      ],
      "metadata": {
        "id": "5HugHL6Cqvzg"
      }
    },
    {
      "cell_type": "markdown",
      "source": [
        "This example is for training a Noise2Void denoising model using RGB images. Images need to be in lossless format (e.g., png or tiff). JPG format is not allowed if you're using the DataGenerator object but you can use skimage or other ibraries to load them. The same approach can be used for grey-scale images, for example SEM or CT images. "
      ],
      "metadata": {
        "id": "nW3YtTvxWqqj"
      }
    },
    {
      "cell_type": "code",
      "execution_count": 1,
      "metadata": {
        "id": "j0OUdazrRDMf",
        "colab": {
          "base_uri": "https://localhost:8080/",
          "height": 1000
        },
        "outputId": "22b5cc7a-8ff1-4f63-ef66-c35a8b6bec2d"
      },
      "outputs": [
        {
          "output_type": "stream",
          "name": "stdout",
          "text": [
            "Looking in indexes: https://pypi.org/simple, https://us-python.pkg.dev/colab-wheels/public/simple/\n",
            "Collecting tensorflow==2.4\n",
            "  Downloading tensorflow-2.4.0-cp38-cp38-manylinux2010_x86_64.whl (394.8 MB)\n",
            "\u001b[K     |████████████████████████████████| 394.8 MB 40 kB/s \n",
            "\u001b[?25hRequirement already satisfied: flatbuffers~=1.12.0 in /usr/local/lib/python3.8/dist-packages (from tensorflow==2.4) (1.12)\n",
            "Collecting grpcio~=1.32.0\n",
            "  Downloading grpcio-1.32.0-cp38-cp38-manylinux2014_x86_64.whl (3.8 MB)\n",
            "\u001b[K     |████████████████████████████████| 3.8 MB 54.8 MB/s \n",
            "\u001b[?25hCollecting tensorflow-estimator<2.5.0,>=2.4.0rc0\n",
            "  Downloading tensorflow_estimator-2.4.0-py2.py3-none-any.whl (462 kB)\n",
            "\u001b[K     |████████████████████████████████| 462 kB 70.0 MB/s \n",
            "\u001b[?25hRequirement already satisfied: wheel~=0.35 in /usr/local/lib/python3.8/dist-packages (from tensorflow==2.4) (0.38.4)\n",
            "Requirement already satisfied: protobuf>=3.9.2 in /usr/local/lib/python3.8/dist-packages (from tensorflow==2.4) (3.19.6)\n",
            "Collecting numpy~=1.19.2\n",
            "  Downloading numpy-1.19.5-cp38-cp38-manylinux2010_x86_64.whl (14.9 MB)\n",
            "\u001b[K     |████████████████████████████████| 14.9 MB 56.7 MB/s \n",
            "\u001b[?25hCollecting absl-py~=0.10\n",
            "  Downloading absl_py-0.15.0-py3-none-any.whl (132 kB)\n",
            "\u001b[K     |████████████████████████████████| 132 kB 80.6 MB/s \n",
            "\u001b[?25hRequirement already satisfied: google-pasta~=0.2 in /usr/local/lib/python3.8/dist-packages (from tensorflow==2.4) (0.2.0)\n",
            "Collecting h5py~=2.10.0\n",
            "  Downloading h5py-2.10.0-cp38-cp38-manylinux1_x86_64.whl (2.9 MB)\n",
            "\u001b[K     |████████████████████████████████| 2.9 MB 53.8 MB/s \n",
            "\u001b[?25hRequirement already satisfied: astunparse~=1.6.3 in /usr/local/lib/python3.8/dist-packages (from tensorflow==2.4) (1.6.3)\n",
            "Collecting wrapt~=1.12.1\n",
            "  Downloading wrapt-1.12.1.tar.gz (27 kB)\n",
            "Requirement already satisfied: keras-preprocessing~=1.1.2 in /usr/local/lib/python3.8/dist-packages (from tensorflow==2.4) (1.1.2)\n",
            "Collecting typing-extensions~=3.7.4\n",
            "  Downloading typing_extensions-3.7.4.3-py3-none-any.whl (22 kB)\n",
            "Requirement already satisfied: tensorboard~=2.4 in /usr/local/lib/python3.8/dist-packages (from tensorflow==2.4) (2.9.1)\n",
            "Requirement already satisfied: opt-einsum~=3.3.0 in /usr/local/lib/python3.8/dist-packages (from tensorflow==2.4) (3.3.0)\n",
            "Collecting gast==0.3.3\n",
            "  Downloading gast-0.3.3-py2.py3-none-any.whl (9.7 kB)\n",
            "Collecting termcolor~=1.1.0\n",
            "  Downloading termcolor-1.1.0.tar.gz (3.9 kB)\n",
            "Requirement already satisfied: six~=1.15.0 in /usr/local/lib/python3.8/dist-packages (from tensorflow==2.4) (1.15.0)\n",
            "Requirement already satisfied: google-auth<3,>=1.6.3 in /usr/local/lib/python3.8/dist-packages (from tensorboard~=2.4->tensorflow==2.4) (2.15.0)\n",
            "Requirement already satisfied: werkzeug>=1.0.1 in /usr/local/lib/python3.8/dist-packages (from tensorboard~=2.4->tensorflow==2.4) (1.0.1)\n",
            "Requirement already satisfied: setuptools>=41.0.0 in /usr/local/lib/python3.8/dist-packages (from tensorboard~=2.4->tensorflow==2.4) (57.4.0)\n",
            "Requirement already satisfied: google-auth-oauthlib<0.5,>=0.4.1 in /usr/local/lib/python3.8/dist-packages (from tensorboard~=2.4->tensorflow==2.4) (0.4.6)\n",
            "Requirement already satisfied: tensorboard-data-server<0.7.0,>=0.6.0 in /usr/local/lib/python3.8/dist-packages (from tensorboard~=2.4->tensorflow==2.4) (0.6.1)\n",
            "Requirement already satisfied: markdown>=2.6.8 in /usr/local/lib/python3.8/dist-packages (from tensorboard~=2.4->tensorflow==2.4) (3.4.1)\n",
            "Requirement already satisfied: tensorboard-plugin-wit>=1.6.0 in /usr/local/lib/python3.8/dist-packages (from tensorboard~=2.4->tensorflow==2.4) (1.8.1)\n",
            "Requirement already satisfied: requests<3,>=2.21.0 in /usr/local/lib/python3.8/dist-packages (from tensorboard~=2.4->tensorflow==2.4) (2.23.0)\n",
            "Requirement already satisfied: rsa<5,>=3.1.4 in /usr/local/lib/python3.8/dist-packages (from google-auth<3,>=1.6.3->tensorboard~=2.4->tensorflow==2.4) (4.9)\n",
            "Requirement already satisfied: cachetools<6.0,>=2.0.0 in /usr/local/lib/python3.8/dist-packages (from google-auth<3,>=1.6.3->tensorboard~=2.4->tensorflow==2.4) (5.2.0)\n",
            "Requirement already satisfied: pyasn1-modules>=0.2.1 in /usr/local/lib/python3.8/dist-packages (from google-auth<3,>=1.6.3->tensorboard~=2.4->tensorflow==2.4) (0.2.8)\n",
            "Requirement already satisfied: requests-oauthlib>=0.7.0 in /usr/local/lib/python3.8/dist-packages (from google-auth-oauthlib<0.5,>=0.4.1->tensorboard~=2.4->tensorflow==2.4) (1.3.1)\n",
            "Requirement already satisfied: importlib-metadata>=4.4 in /usr/local/lib/python3.8/dist-packages (from markdown>=2.6.8->tensorboard~=2.4->tensorflow==2.4) (4.13.0)\n",
            "Requirement already satisfied: zipp>=0.5 in /usr/local/lib/python3.8/dist-packages (from importlib-metadata>=4.4->markdown>=2.6.8->tensorboard~=2.4->tensorflow==2.4) (3.11.0)\n",
            "Requirement already satisfied: pyasn1<0.5.0,>=0.4.6 in /usr/local/lib/python3.8/dist-packages (from pyasn1-modules>=0.2.1->google-auth<3,>=1.6.3->tensorboard~=2.4->tensorflow==2.4) (0.4.8)\n",
            "Requirement already satisfied: chardet<4,>=3.0.2 in /usr/local/lib/python3.8/dist-packages (from requests<3,>=2.21.0->tensorboard~=2.4->tensorflow==2.4) (3.0.4)\n",
            "Requirement already satisfied: urllib3!=1.25.0,!=1.25.1,<1.26,>=1.21.1 in /usr/local/lib/python3.8/dist-packages (from requests<3,>=2.21.0->tensorboard~=2.4->tensorflow==2.4) (1.24.3)\n",
            "Requirement already satisfied: idna<3,>=2.5 in /usr/local/lib/python3.8/dist-packages (from requests<3,>=2.21.0->tensorboard~=2.4->tensorflow==2.4) (2.10)\n",
            "Requirement already satisfied: certifi>=2017.4.17 in /usr/local/lib/python3.8/dist-packages (from requests<3,>=2.21.0->tensorboard~=2.4->tensorflow==2.4) (2022.9.24)\n",
            "Requirement already satisfied: oauthlib>=3.0.0 in /usr/local/lib/python3.8/dist-packages (from requests-oauthlib>=0.7.0->google-auth-oauthlib<0.5,>=0.4.1->tensorboard~=2.4->tensorflow==2.4) (3.2.2)\n",
            "Building wheels for collected packages: termcolor, wrapt\n",
            "  Building wheel for termcolor (setup.py) ... \u001b[?25l\u001b[?25hdone\n",
            "  Created wheel for termcolor: filename=termcolor-1.1.0-py3-none-any.whl size=4849 sha256=89e3aff11d007100d06434f2810cefe7ed544b806a2fa78e35c5138d0cb22d5e\n",
            "  Stored in directory: /root/.cache/pip/wheels/a0/16/9c/5473df82468f958445479c59e784896fa24f4a5fc024b0f501\n",
            "  Building wheel for wrapt (setup.py) ... \u001b[?25l\u001b[?25hdone\n",
            "  Created wheel for wrapt: filename=wrapt-1.12.1-cp38-cp38-linux_x86_64.whl size=72346 sha256=53978470e5d61e98e8d6009c54039f46f05501317152a6a88e6f0244abbc3bd9\n",
            "  Stored in directory: /root/.cache/pip/wheels/5f/fd/9e/b6cf5890494cb8ef0b5eaff72e5d55a70fb56316007d6dfe73\n",
            "Successfully built termcolor wrapt\n",
            "Installing collected packages: numpy, grpcio, absl-py, wrapt, typing-extensions, termcolor, tensorflow-estimator, h5py, gast, tensorflow\n",
            "  Attempting uninstall: numpy\n",
            "    Found existing installation: numpy 1.21.6\n",
            "    Uninstalling numpy-1.21.6:\n",
            "      Successfully uninstalled numpy-1.21.6\n",
            "  Attempting uninstall: grpcio\n",
            "    Found existing installation: grpcio 1.51.1\n",
            "    Uninstalling grpcio-1.51.1:\n",
            "      Successfully uninstalled grpcio-1.51.1\n",
            "  Attempting uninstall: absl-py\n",
            "    Found existing installation: absl-py 1.3.0\n",
            "    Uninstalling absl-py-1.3.0:\n",
            "      Successfully uninstalled absl-py-1.3.0\n",
            "  Attempting uninstall: wrapt\n",
            "    Found existing installation: wrapt 1.14.1\n",
            "    Uninstalling wrapt-1.14.1:\n",
            "      Successfully uninstalled wrapt-1.14.1\n",
            "  Attempting uninstall: typing-extensions\n",
            "    Found existing installation: typing-extensions 4.4.0\n",
            "    Uninstalling typing-extensions-4.4.0:\n",
            "      Successfully uninstalled typing-extensions-4.4.0\n",
            "  Attempting uninstall: termcolor\n",
            "    Found existing installation: termcolor 2.1.1\n",
            "    Uninstalling termcolor-2.1.1:\n",
            "      Successfully uninstalled termcolor-2.1.1\n",
            "  Attempting uninstall: tensorflow-estimator\n",
            "    Found existing installation: tensorflow-estimator 2.9.0\n",
            "    Uninstalling tensorflow-estimator-2.9.0:\n",
            "      Successfully uninstalled tensorflow-estimator-2.9.0\n",
            "  Attempting uninstall: h5py\n",
            "    Found existing installation: h5py 3.1.0\n",
            "    Uninstalling h5py-3.1.0:\n",
            "      Successfully uninstalled h5py-3.1.0\n",
            "  Attempting uninstall: gast\n",
            "    Found existing installation: gast 0.4.0\n",
            "    Uninstalling gast-0.4.0:\n",
            "      Successfully uninstalled gast-0.4.0\n",
            "  Attempting uninstall: tensorflow\n",
            "    Found existing installation: tensorflow 2.9.2\n",
            "    Uninstalling tensorflow-2.9.2:\n",
            "      Successfully uninstalled tensorflow-2.9.2\n",
            "\u001b[31mERROR: pip's dependency resolver does not currently take into account all the packages that are installed. This behaviour is the source of the following dependency conflicts.\n",
            "pydantic 1.10.2 requires typing-extensions>=4.1.0, but you have typing-extensions 3.7.4.3 which is incompatible.\n",
            "jaxlib 0.3.25+cuda11.cudnn805 requires numpy>=1.20, but you have numpy 1.19.5 which is incompatible.\n",
            "jax 0.3.25 requires numpy>=1.20, but you have numpy 1.19.5 which is incompatible.\n",
            "grpcio-status 1.48.2 requires grpcio>=1.48.2, but you have grpcio 1.32.0 which is incompatible.\n",
            "google-cloud-bigquery 3.3.6 requires grpcio<2.0dev,>=1.47.0, but you have grpcio 1.32.0 which is incompatible.\n",
            "cupy-cuda11x 11.0.0 requires numpy<1.26,>=1.20, but you have numpy 1.19.5 which is incompatible.\n",
            "cmdstanpy 1.0.8 requires numpy>=1.21, but you have numpy 1.19.5 which is incompatible.\u001b[0m\n",
            "Successfully installed absl-py-0.15.0 gast-0.3.3 grpcio-1.32.0 h5py-2.10.0 numpy-1.19.5 tensorflow-2.4.0 tensorflow-estimator-2.4.0 termcolor-1.1.0 typing-extensions-3.7.4.3 wrapt-1.12.1\n"
          ]
        },
        {
          "output_type": "display_data",
          "data": {
            "application/vnd.colab-display-data+json": {
              "pip_warning": {
                "packages": [
                  "numpy"
                ]
              }
            }
          },
          "metadata": {}
        }
      ],
      "source": [
        "#Install the tensorflow library suggested by N2V. \n",
        "!pip install tensorflow==2.4"
      ]
    },
    {
      "cell_type": "code",
      "source": [
        "!pip install n2v"
      ],
      "metadata": {
        "id": "UMD6Oyi6RVfv",
        "colab": {
          "base_uri": "https://localhost:8080/"
        },
        "outputId": "f950d0a0-4959-4cad-f427-235cb523b59c"
      },
      "execution_count": 1,
      "outputs": [
        {
          "output_type": "stream",
          "name": "stdout",
          "text": [
            "Looking in indexes: https://pypi.org/simple, https://us-python.pkg.dev/colab-wheels/public/simple/\n",
            "Collecting n2v\n",
            "  Downloading n2v-0.3.2-py2.py3-none-any.whl (47 kB)\n",
            "\u001b[K     |████████████████████████████████| 47 kB 2.4 MB/s \n",
            "\u001b[?25hCollecting imagecodecs>=2020.2.18\n",
            "  Downloading imagecodecs-2022.9.26-cp38-cp38-manylinux_2_17_x86_64.manylinux2014_x86_64.whl (35.1 MB)\n",
            "\u001b[K     |████████████████████████████████| 35.1 MB 55.6 MB/s \n",
            "\u001b[?25hRequirement already satisfied: Pillow in /usr/local/lib/python3.8/dist-packages (from n2v) (7.1.2)\n",
            "Collecting ruamel.yaml>=0.16.10\n",
            "  Downloading ruamel.yaml-0.17.21-py3-none-any.whl (109 kB)\n",
            "\u001b[K     |████████████████████████████████| 109 kB 70.2 MB/s \n",
            "\u001b[?25hCollecting csbdeep<0.8.0,>=0.7.2\n",
            "  Downloading csbdeep-0.7.2-py2.py3-none-any.whl (69 kB)\n",
            "\u001b[K     |████████████████████████████████| 69 kB 8.9 MB/s \n",
            "\u001b[?25hRequirement already satisfied: numpy in /usr/local/lib/python3.8/dist-packages (from n2v) (1.19.5)\n",
            "Requirement already satisfied: tifffile in /usr/local/lib/python3.8/dist-packages (from n2v) (2022.10.10)\n",
            "Requirement already satisfied: scipy in /usr/local/lib/python3.8/dist-packages (from csbdeep<0.8.0,>=0.7.2->n2v) (1.7.3)\n",
            "Requirement already satisfied: packaging in /usr/local/lib/python3.8/dist-packages (from csbdeep<0.8.0,>=0.7.2->n2v) (21.3)\n",
            "Requirement already satisfied: h5py<3 in /usr/local/lib/python3.8/dist-packages (from csbdeep<0.8.0,>=0.7.2->n2v) (2.10.0)\n",
            "Requirement already satisfied: matplotlib in /usr/local/lib/python3.8/dist-packages (from csbdeep<0.8.0,>=0.7.2->n2v) (3.2.2)\n",
            "Requirement already satisfied: six in /usr/local/lib/python3.8/dist-packages (from csbdeep<0.8.0,>=0.7.2->n2v) (1.15.0)\n",
            "Requirement already satisfied: tqdm in /usr/local/lib/python3.8/dist-packages (from csbdeep<0.8.0,>=0.7.2->n2v) (4.64.1)\n",
            "Collecting ruamel.yaml.clib>=0.2.6\n",
            "  Downloading ruamel.yaml.clib-0.2.7-cp38-cp38-manylinux_2_17_x86_64.manylinux2014_x86_64.manylinux_2_24_x86_64.whl (555 kB)\n",
            "\u001b[K     |████████████████████████████████| 555 kB 58.1 MB/s \n",
            "\u001b[?25hRequirement already satisfied: cycler>=0.10 in /usr/local/lib/python3.8/dist-packages (from matplotlib->csbdeep<0.8.0,>=0.7.2->n2v) (0.11.0)\n",
            "Requirement already satisfied: python-dateutil>=2.1 in /usr/local/lib/python3.8/dist-packages (from matplotlib->csbdeep<0.8.0,>=0.7.2->n2v) (2.8.2)\n",
            "Requirement already satisfied: kiwisolver>=1.0.1 in /usr/local/lib/python3.8/dist-packages (from matplotlib->csbdeep<0.8.0,>=0.7.2->n2v) (1.4.4)\n",
            "Requirement already satisfied: pyparsing!=2.0.4,!=2.1.2,!=2.1.6,>=2.0.1 in /usr/local/lib/python3.8/dist-packages (from matplotlib->csbdeep<0.8.0,>=0.7.2->n2v) (3.0.9)\n",
            "Installing collected packages: ruamel.yaml.clib, ruamel.yaml, imagecodecs, csbdeep, n2v\n",
            "Successfully installed csbdeep-0.7.2 imagecodecs-2022.9.26 n2v-0.3.2 ruamel.yaml-0.17.21 ruamel.yaml.clib-0.2.7\n"
          ]
        }
      ]
    },
    {
      "cell_type": "code",
      "source": [
        "import tensorflow as tf\n",
        "import n2v\n",
        "print(tf.__version__)\n",
        "print(n2v.__version__)"
      ],
      "metadata": {
        "colab": {
          "base_uri": "https://localhost:8080/"
        },
        "id": "qRUF1zNmR4xi",
        "outputId": "d97592c1-7d60-4cab-9c67-2ea326443dd9"
      },
      "execution_count": 2,
      "outputs": [
        {
          "output_type": "stream",
          "name": "stdout",
          "text": [
            "2.4.0\n",
            "0.3.2\n"
          ]
        }
      ]
    },
    {
      "cell_type": "code",
      "source": [
        "# We import all our dependencies.\n",
        "from n2v.models import N2VConfig, N2V\n",
        "import numpy as np\n",
        "from csbdeep.utils import plot_history\n",
        "from n2v.utils.n2v_utils import manipulate_val_data\n",
        "from n2v.internals.N2V_DataGenerator import N2V_DataGenerator\n",
        "from matplotlib import pyplot as plt\n",
        "import urllib\n",
        "import os\n",
        "import zipfile\n",
        "\n",
        "import ssl\n",
        "ssl._create_default_https_context = ssl._create_unverified_context"
      ],
      "metadata": {
        "id": "_1RLQa0XRhL-"
      },
      "execution_count": 13,
      "outputs": []
    },
    {
      "cell_type": "markdown",
      "source": [
        "**Training Data Preparation**\n",
        "\n",
        "\n",
        "<p>\n",
        "For training we can load a bunch of noisy images from a directory. Images can be of different sizes as we will be capturing them as a list, not an array. Of course, each image is an array. We will use the N2V_DataGenerator to extract training X and validation X_val patches."
      ],
      "metadata": {
        "id": "wK1P8u35Sbk5"
      }
    },
    {
      "cell_type": "code",
      "source": [
        "# We create our DataGenerator-object.\n",
        "# It will help us load data and extract patches for training and validation.\n",
        "datagen = N2V_DataGenerator()"
      ],
      "metadata": {
        "id": "y92qNgnsStWU"
      },
      "execution_count": 14,
      "outputs": []
    },
    {
      "cell_type": "code",
      "source": [
        "from google.colab import drive\n",
        "drive.mount('/content/drive')"
      ],
      "metadata": {
        "colab": {
          "base_uri": "https://localhost:8080/"
        },
        "id": "vtHRKFuxml0q",
        "outputId": "76c5efe7-0642-48b1-b21a-56de2e97c000"
      },
      "execution_count": 5,
      "outputs": [
        {
          "output_type": "stream",
          "name": "stdout",
          "text": [
            "Mounted at /content/drive\n"
          ]
        }
      ]
    },
    {
      "cell_type": "markdown",
      "source": [
        "If you have many images stored in a directory, use load_imgs_from_directory method to load them into a list. Images can be of different sizes as we are capturing them into a list, not an array. \n",
        "<p>\n",
        "You can also use your favorite way of reading images (e.g., using skimage) sequentially and capturing them into a list that can be used as input to the network. \n",
        "<p>\n",
        "Note that the images need to be in float32 format. load_imgs_from_directory method converts images to float32 but if you use your own way of loading images, you need to make sure they are converted to float32. "
      ],
      "metadata": {
        "id": "Ys7l6IOjAEJP"
      }
    },
    {
      "cell_type": "code",
      "source": [
        "#METHOD 1: Loading images using load_imgs_from_directory method\n",
        "# We load all the '.png' files from the directory.\n",
        "# The function will return a list of images (numpy arrays).\n",
        "imgs = datagen.load_imgs_from_directory(directory = \"/content/drive/MyDrive/Colab Notebooks/data/N2V/png_images/\", \n",
        "                                        filter='S4127R03.png',dims='YX')  #ZYX for 3D # YX for grayscale\n",
        "\n",
        "# Let's look at the shape of the image\n",
        "print('shape of loaded images: ',imgs[0].shape)\n",
        "# If the image has four color channels (stored in the last dimension): RGB and Aplha.\n",
        "# We are not interested in Alpha and will get rid of it.\n",
        "# imgs[0] = imgs[0][...,:3]\n",
        "print('shape without alpha:    ',imgs[0].shape)\n",
        "print('The data type of the first image is: ', imgs[0].dtype)\n"
      ],
      "metadata": {
        "colab": {
          "base_uri": "https://localhost:8080/"
        },
        "id": "Nwz4hCRoS-QH",
        "outputId": "fadd0960-e5f0-42f3-c24f-56e81880c0be"
      },
      "execution_count": 24,
      "outputs": [
        {
          "output_type": "stream",
          "name": "stdout",
          "text": [
            "shape of loaded images:  (1, 80, 512, 1)\n",
            "shape without alpha:     (1, 80, 512, 1)\n",
            "The data type of the first image is:  float32\n"
          ]
        }
      ]
    },
    {
      "cell_type": "code",
      "source": [
        "print(len(imgs))\n",
        "print(imgs[0].shape)\n",
        "print(imgs[0].dtype)"
      ],
      "metadata": {
        "colab": {
          "base_uri": "https://localhost:8080/"
        },
        "id": "ovOM7Hj17dZC",
        "outputId": "33263c1d-371b-4b55-da75-613cc3691b70"
      },
      "execution_count": 25,
      "outputs": [
        {
          "output_type": "stream",
          "name": "stdout",
          "text": [
            "1\n",
            "(1, 80, 512, 1)\n",
            "float32\n"
          ]
        }
      ]
    },
    {
      "cell_type": "code",
      "source": [
        "# Let's look at the image.\n",
        "plt.figure()\n",
        "plt.imshow(imgs[0][0,:,:,0],cmap='gray')\n",
        "plt.show()"
      ],
      "metadata": {
        "colab": {
          "base_uri": "https://localhost:8080/",
          "height": 104
        },
        "id": "Hwl7MW4nTBoh",
        "outputId": "3dd0fe31-91e8-4d7c-a92e-c0fa5f123f3e"
      },
      "execution_count": 33,
      "outputs": [
        {
          "output_type": "display_data",
          "data": {
            "text/plain": [
              "<Figure size 432x288 with 1 Axes>"
            ],
            "image/png": "[encoded data removed]"
          },
          "metadata": {
            "needs_background": "light"
          }
        }
      ]
    },
    {
      "cell_type": "code",
      "source": [
        "patch_size = 32"
      ],
      "metadata": {
        "id": "W65Fimqb8rVG"
      },
      "execution_count": 37,
      "outputs": []
    },
    {
      "cell_type": "code",
      "source": [
        "# Patches are extracted from all images and combined into a single numpy array\n",
        "patch_shape = (patch_size,patch_size)\n",
        "patches = datagen.generate_patches_from_list(imgs, shape=patch_shape)\n"
      ],
      "metadata": {
        "colab": {
          "base_uri": "https://localhost:8080/"
        },
        "id": "tJ9PjGnfTEfB",
        "outputId": "ae3b889c-b2a9-4df6-f5e8-8b8daaf65a0d"
      },
      "execution_count": 38,
      "outputs": [
        {
          "output_type": "stream",
          "name": "stdout",
          "text": [
            "Generated patches: (256, 32, 32, 1)\n"
          ]
        }
      ]
    },
    {
      "cell_type": "code",
      "source": [
        "patches.shape"
      ],
      "metadata": {
        "colab": {
          "base_uri": "https://localhost:8080/"
        },
        "id": "VYTU8pwt70Zb",
        "outputId": "05522a0d-870f-491a-e3c5-f6a9441b8e06"
      },
      "execution_count": 39,
      "outputs": [
        {
          "output_type": "execute_result",
          "data": {
            "text/plain": [
              "(256, 32, 32, 1)"
            ]
          },
          "metadata": {},
          "execution_count": 39
        }
      ]
    },
    {
      "cell_type": "code",
      "source": [
        "# Patches are created so they do not overlap.\n",
        "# (Note: this is not the case if you specify a number of patches. See the docstring for details!)\n",
        "# Non-overlapping patches enable us to split them into a training and validation set.\n",
        "train_val_split = int(patches.shape[0] * 0.8)\n",
        "X = patches[:train_val_split]\n",
        "X_val = patches[train_val_split:]"
      ],
      "metadata": {
        "id": "9zoDo-RTvj41"
      },
      "execution_count": 40,
      "outputs": []
    },
    {
      "cell_type": "code",
      "source": [
        "print(X.shape)\n",
        "print(X.dtype)\n",
        "print(X_val.shape)"
      ],
      "metadata": {
        "colab": {
          "base_uri": "https://localhost:8080/"
        },
        "id": "pYVjQ61r_V16",
        "outputId": "6b36120b-e42d-4b4c-8a4c-692d4f99a862"
      },
      "execution_count": 41,
      "outputs": [
        {
          "output_type": "stream",
          "name": "stdout",
          "text": [
            "(204, 32, 32, 1)\n",
            "float32\n",
            "(52, 32, 32, 1)\n"
          ]
        }
      ]
    },
    {
      "cell_type": "code",
      "source": [
        "# Just in case you don't know how to access the docstring of a method:\n",
        "datagen.generate_patches_from_list?"
      ],
      "metadata": {
        "id": "1NB7eq4qTOc3"
      },
      "execution_count": null,
      "outputs": []
    },
    {
      "cell_type": "code",
      "source": [
        "# Let's look at two patches.\n",
        "plt.figure(figsize=(14,7))\n",
        "plt.subplot(1,2,1)\n",
        "plt.imshow(X[0,...,0],cmap='gray')\n",
        "plt.title('Training Patch');\n",
        "plt.subplot(1,2,2)\n",
        "plt.imshow(X_val[0,...,0],cmap='gray')\n",
        "plt.title('Validation Patch');"
      ],
      "metadata": {
        "colab": {
          "base_uri": "https://localhost:8080/",
          "height": 419
        },
        "id": "YOkyCvvWTUaN",
        "outputId": "67a84d8d-7ac0-4dc3-e0e4-a05f2f65347f"
      },
      "execution_count": 45,
      "outputs": [
        {
          "output_type": "display_data",
          "data": {
            "text/plain": [
              "<Figure size 1008x504 with 2 Axes>"
            ],
            "image/png": "[encoded data removed]"
          },
          "metadata": {
            "needs_background": "light"
          }
        }
      ]
    },
    {
      "cell_type": "markdown",
      "source": [
        "<h2>Configure</h2><p>\n",
        "\n",
        "Noise2Void comes with a special config-object, where we store network-architecture and training specific parameters. See the docstring of the N2VConfig constructor for a description of all parameters.\n",
        "<p>\n",
        "When creating the config-object, we provide the training data X. From X we extract mean and std that will be used to normalize all data before it is processed by the network. We also extract the dimensionality and number of channels from X.\n",
        "<p>\n",
        "Compared to supervised training (i.e. traditional CARE), we recommend to use N2V with an increased train_batch_size and batch_norm. To keep the network from learning the identity we have to manipulate the input pixels during training. For this we have the parameter n2v_manipulator with default value 'uniform_withCP'. Most pixel manipulators will compute the replacement value based on a neighborhood. With n2v_neighborhood_radius we can control its size.\n",
        "<p>\n",
        "<h3>Other pixel manipulators:</h3>\n",
        "<p>\n",
        "* normal_withoutCP: samples the neighborhood according to a normal gaussian distribution, but without the center pixel\n",
        "<br>\n",
        "* normal_additive: adds a random number to the original pixel value. The random number is sampled from a gaussian distribution with zero-mean and sigma = n2v_neighborhood_radius\n",
        "<br>\n",
        "* normal_fitted: uses a random value from a gaussian normal distribution with mean equal to the mean of the neighborhood and standard deviation equal to the standard deviation of the neighborhood.\n",
        "<br>\n",
        "* identity: performs no pixel manipulation\n",
        "<br>\n",
        "For faster training multiple pixels per input patch can be manipulated. In our experiments we manipulated about 0.198% of the input pixels per patch. For a patch size of 64 by 64 pixels this corresponds to about 8 pixels. This fraction can be tuned via n2v_perc_pix.\n",
        "<p>\n",
        "For Noise2Void training it is possible to pass arbitrarily large patches to the training method. From these patches random subpatches of size n2v_patch_shape are extracted during training. Default patch shape is set to (64, 64).\n",
        "<p>\n",
        "In the past we experienced bleedthrough artifacts between channels if training was terminated to early. To counter bleedthrough we added the single_net_per_channel option, which is turned on by default. In the back a single U-Net for each channel is created and trained independently, thereby removing the possiblity of bleedthrough.<br>\n",
        "Note: Essentially the network gets multiplied by the number of channels, which increases the memory requirements. If your GPU gets too small, you can always split the channels manually and train a network for each channel one after another.\n",
        "<p>\n",
        "**Warning:** to make this example notebook execute faster, we have set train_epochs to only 10.\n",
        "For better results we suggest 100 to 200 train_epochs."
      ],
      "metadata": {
        "id": "mh1ijRnMTdLj"
      }
    },
    {
      "cell_type": "code",
      "source": [
        "# train_steps_per_epoch is set to (number of training patches)/(batch size), like this each training patch \n",
        "# is shown once per epoch. \n",
        "train_batch = 32\n",
        "config = N2VConfig(X, unet_kern_size=3, \n",
        "                   unet_n_first=64, unet_n_depth=3, train_steps_per_epoch=int(X.shape[0]/train_batch), train_epochs=50, train_loss='mse', \n",
        "                   batch_norm=True, train_batch_size=train_batch, n2v_perc_pix=0.198, n2v_patch_shape=(patch_size, patch_size), \n",
        "                   n2v_manipulator='uniform_withCP', n2v_neighborhood_radius=5, single_net_per_channel=False)\n",
        "\n",
        "# Let's look at the parameters stored in the config-object.\n",
        "vars(config)"
      ],
      "metadata": {
        "colab": {
          "base_uri": "https://localhost:8080/"
        },
        "id": "mvL5exo0TcmV",
        "outputId": "69f02bea-4dc6-404a-f8d9-a3bc931a4305"
      },
      "execution_count": 60,
      "outputs": [
        {
          "output_type": "execute_result",
          "data": {
            "text/plain": [
              "{'means': ['0.22024974'],\n",
              " 'stds': ['0.056588974'],\n",
              " 'n_dim': 2,\n",
              " 'axes': 'YXC',\n",
              " 'n_channel_in': 1,\n",
              " 'n_channel_out': 1,\n",
              " 'unet_residual': False,\n",
              " 'unet_n_depth': 3,\n",
              " 'unet_kern_size': 3,\n",
              " 'unet_n_first': 64,\n",
              " 'unet_last_activation': 'linear',\n",
              " 'unet_input_shape': (None, None, 1),\n",
              " 'train_loss': 'mse',\n",
              " 'train_epochs': 50,\n",
              " 'train_steps_per_epoch': 6,\n",
              " 'train_learning_rate': 0.0004,\n",
              " 'train_batch_size': 32,\n",
              " 'train_tensorboard': True,\n",
              " 'train_checkpoint': 'weights_best.h5',\n",
              " 'train_reduce_lr': {'factor': 0.5, 'patience': 10},\n",
              " 'batch_norm': True,\n",
              " 'n2v_perc_pix': 0.198,\n",
              " 'n2v_patch_shape': (32, 32),\n",
              " 'n2v_manipulator': 'uniform_withCP',\n",
              " 'n2v_neighborhood_radius': 5,\n",
              " 'single_net_per_channel': False,\n",
              " 'blurpool': False,\n",
              " 'skip_skipone': False,\n",
              " 'structN2Vmask': None,\n",
              " 'probabilistic': False}"
            ]
          },
          "metadata": {},
          "execution_count": 60
        }
      ]
    },
    {
      "cell_type": "code",
      "source": [
        "# a name used to identify the model --> change this to something sensible!\n",
        "model_name = 'n2v_2D_stars'\n",
        "# the base directory in which our model will live\n",
        "basedir = 'models'\n",
        "# We are now creating our network model.\n",
        "model = N2V(config, model_name, basedir=basedir)"
      ],
      "metadata": {
        "id": "tOanEoNwUN34",
        "colab": {
          "base_uri": "https://localhost:8080/"
        },
        "outputId": "b6ee1f26-16d1-4a52-a11f-42f0d5c00f78"
      },
      "execution_count": 61,
      "outputs": [
        {
          "output_type": "stream",
          "name": "stderr",
          "text": [
            "/usr/local/lib/python3.8/dist-packages/n2v/models/n2v_standard.py:429: UserWarning: output path for model already exists, files may be overwritten: /content/models/n2v_2D_stars\n",
            "  warnings.warn(\n"
          ]
        }
      ]
    },
    {
      "cell_type": "markdown",
      "source": [
        "<h2>Training</h2><p>\n"
      ],
      "metadata": {
        "id": "kpJxX-SaUTIR"
      }
    },
    {
      "cell_type": "code",
      "source": [
        "# We are ready to start training now.\n",
        "history = model.train(X, X_val)"
      ],
      "metadata": {
        "colab": {
          "base_uri": "https://localhost:8080/"
        },
        "id": "l2S6gJ1pUR3V",
        "outputId": "269ca23b-921b-4a43-a7f1-69d105297844"
      },
      "execution_count": 62,
      "outputs": [
        {
          "output_type": "stream",
          "name": "stdout",
          "text": [
            "2 blind-spots will be generated per training patch of size (32, 32).\n"
          ]
        },
        {
          "output_type": "stream",
          "name": "stderr",
          "text": [
            "Preparing validation data: 100%|██████████| 52/52 [00:00<00:00, 4523.76it/s]"
          ]
        },
        {
          "output_type": "stream",
          "name": "stdout",
          "text": [
            "Epoch 1/50\n"
          ]
        },
        {
          "output_type": "stream",
          "name": "stderr",
          "text": [
            "\n"
          ]
        },
        {
          "output_type": "stream",
          "name": "stdout",
          "text": [
            "6/6 [==============================] - 11s 2s/step - loss: 0.8790 - n2v_mse: 0.8790 - n2v_abs: 0.6153 - val_loss: 0.6379 - val_n2v_mse: 0.6154 - val_n2v_abs: 0.6013\n",
            "Epoch 2/50\n",
            "6/6 [==============================] - 9s 2s/step - loss: 0.4315 - n2v_mse: 0.4315 - n2v_abs: 0.4434 - val_loss: 0.6106 - val_n2v_mse: 0.5893 - val_n2v_abs: 0.5898\n",
            "Epoch 3/50\n",
            "6/6 [==============================] - 12s 2s/step - loss: 0.2506 - n2v_mse: 0.2506 - n2v_abs: 0.2911 - val_loss: 0.6204 - val_n2v_mse: 0.5969 - val_n2v_abs: 0.5843\n",
            "Epoch 4/50\n",
            "6/6 [==============================] - 9s 2s/step - loss: 0.3652 - n2v_mse: 0.3652 - n2v_abs: 0.3488 - val_loss: 0.5610 - val_n2v_mse: 0.5401 - val_n2v_abs: 0.5558\n",
            "Epoch 5/50\n",
            "6/6 [==============================] - 9s 2s/step - loss: 0.1751 - n2v_mse: 0.1751 - n2v_abs: 0.2286 - val_loss: 0.5380 - val_n2v_mse: 0.5183 - val_n2v_abs: 0.5488\n",
            "Epoch 6/50\n",
            "6/6 [==============================] - 9s 2s/step - loss: 0.2567 - n2v_mse: 0.2567 - n2v_abs: 0.2544 - val_loss: 0.5613 - val_n2v_mse: 0.5396 - val_n2v_abs: 0.5591\n",
            "Epoch 7/50\n",
            "6/6 [==============================] - 13s 2s/step - loss: 0.1101 - n2v_mse: 0.1101 - n2v_abs: 0.1950 - val_loss: 0.5388 - val_n2v_mse: 0.5185 - val_n2v_abs: 0.5482\n",
            "Epoch 8/50\n",
            "6/6 [==============================] - 10s 2s/step - loss: 0.1342 - n2v_mse: 0.1342 - n2v_abs: 0.2836 - val_loss: 0.5006 - val_n2v_mse: 0.4818 - val_n2v_abs: 0.5228\n",
            "Epoch 9/50\n",
            "6/6 [==============================] - 9s 2s/step - loss: 0.3140 - n2v_mse: 0.3140 - n2v_abs: 0.2141 - val_loss: 0.4885 - val_n2v_mse: 0.4704 - val_n2v_abs: 0.5182\n",
            "Epoch 10/50\n",
            "6/6 [==============================] - 11s 2s/step - loss: 0.3789 - n2v_mse: 0.3789 - n2v_abs: 0.2225 - val_loss: 0.4978 - val_n2v_mse: 0.4788 - val_n2v_abs: 0.5198\n",
            "Epoch 11/50\n",
            "6/6 [==============================] - 12s 2s/step - loss: 0.0756 - n2v_mse: 0.0756 - n2v_abs: 0.1810 - val_loss: 0.4902 - val_n2v_mse: 0.4713 - val_n2v_abs: 0.5111\n",
            "Epoch 12/50\n",
            "6/6 [==============================] - 9s 2s/step - loss: 0.1425 - n2v_mse: 0.1425 - n2v_abs: 0.2784 - val_loss: 0.4523 - val_n2v_mse: 0.4357 - val_n2v_abs: 0.4894\n",
            "Epoch 13/50\n",
            "6/6 [==============================] - 9s 2s/step - loss: 0.2429 - n2v_mse: 0.2429 - n2v_abs: 0.2490 - val_loss: 0.4367 - val_n2v_mse: 0.4210 - val_n2v_abs: 0.4825\n",
            "Epoch 14/50\n",
            "6/6 [==============================] - 9s 2s/step - loss: 0.0888 - n2v_mse: 0.0888 - n2v_abs: 0.2188 - val_loss: 0.4690 - val_n2v_mse: 0.4516 - val_n2v_abs: 0.5031\n",
            "Epoch 15/50\n",
            "6/6 [==============================] - 12s 2s/step - loss: 0.4211 - n2v_mse: 0.4211 - n2v_abs: 0.1935 - val_loss: 0.4633 - val_n2v_mse: 0.4454 - val_n2v_abs: 0.4998\n",
            "Epoch 16/50\n",
            "6/6 [==============================] - 13s 2s/step - loss: 0.2955 - n2v_mse: 0.2955 - n2v_abs: 0.2341 - val_loss: 0.4511 - val_n2v_mse: 0.4333 - val_n2v_abs: 0.4883\n",
            "Epoch 17/50\n",
            "6/6 [==============================] - 9s 2s/step - loss: 0.1496 - n2v_mse: 0.1496 - n2v_abs: 0.2168 - val_loss: 0.3961 - val_n2v_mse: 0.3812 - val_n2v_abs: 0.4519\n",
            "Epoch 18/50\n",
            "6/6 [==============================] - 9s 2s/step - loss: 0.0838 - n2v_mse: 0.0838 - n2v_abs: 0.2135 - val_loss: 0.3354 - val_n2v_mse: 0.3237 - val_n2v_abs: 0.4125\n",
            "Epoch 19/50\n",
            "6/6 [==============================] - 12s 2s/step - loss: 0.1746 - n2v_mse: 0.1746 - n2v_abs: 0.2018 - val_loss: 0.3207 - val_n2v_mse: 0.3100 - val_n2v_abs: 0.4117\n",
            "Epoch 20/50\n",
            "6/6 [==============================] - 9s 2s/step - loss: 0.0436 - n2v_mse: 0.0436 - n2v_abs: 0.1577 - val_loss: 0.3436 - val_n2v_mse: 0.3322 - val_n2v_abs: 0.4378\n",
            "Epoch 21/50\n",
            "6/6 [==============================] - 9s 2s/step - loss: 0.0629 - n2v_mse: 0.0629 - n2v_abs: 0.1851 - val_loss: 0.3463 - val_n2v_mse: 0.3348 - val_n2v_abs: 0.4422\n",
            "Epoch 22/50\n",
            "6/6 [==============================] - 9s 2s/step - loss: 0.0571 - n2v_mse: 0.0571 - n2v_abs: 0.1656 - val_loss: 0.3074 - val_n2v_mse: 0.2973 - val_n2v_abs: 0.4130\n",
            "Epoch 23/50\n",
            "6/6 [==============================] - 12s 2s/step - loss: 0.0795 - n2v_mse: 0.0795 - n2v_abs: 0.1895 - val_loss: 0.3053 - val_n2v_mse: 0.2942 - val_n2v_abs: 0.4026\n",
            "Epoch 24/50\n",
            "6/6 [==============================] - 9s 2s/step - loss: 0.0395 - n2v_mse: 0.0395 - n2v_abs: 0.1299 - val_loss: 0.2988 - val_n2v_mse: 0.2875 - val_n2v_abs: 0.3962\n",
            "Epoch 25/50\n",
            "6/6 [==============================] - 9s 2s/step - loss: 0.0695 - n2v_mse: 0.0695 - n2v_abs: 0.1601 - val_loss: 0.3290 - val_n2v_mse: 0.3154 - val_n2v_abs: 0.4140\n",
            "Epoch 26/50\n",
            "6/6 [==============================] - 9s 2s/step - loss: 0.0487 - n2v_mse: 0.0487 - n2v_abs: 0.1658 - val_loss: 0.3160 - val_n2v_mse: 0.3030 - val_n2v_abs: 0.4063\n",
            "Epoch 27/50\n",
            "6/6 [==============================] - 12s 2s/step - loss: 0.0306 - n2v_mse: 0.0306 - n2v_abs: 0.1201 - val_loss: 0.3115 - val_n2v_mse: 0.2990 - val_n2v_abs: 0.4086\n",
            "Epoch 28/50\n",
            "6/6 [==============================] - 9s 2s/step - loss: 0.0312 - n2v_mse: 0.0312 - n2v_abs: 0.1238 - val_loss: 0.3098 - val_n2v_mse: 0.2973 - val_n2v_abs: 0.4092\n",
            "Epoch 29/50\n",
            "6/6 [==============================] - 9s 2s/step - loss: 0.0626 - n2v_mse: 0.0626 - n2v_abs: 0.1836 - val_loss: 0.2813 - val_n2v_mse: 0.2700 - val_n2v_abs: 0.3916\n",
            "Epoch 30/50\n",
            "6/6 [==============================] - 9s 2s/step - loss: 0.0984 - n2v_mse: 0.0984 - n2v_abs: 0.1527 - val_loss: 0.2782 - val_n2v_mse: 0.2667 - val_n2v_abs: 0.3929\n",
            "Epoch 31/50\n",
            "6/6 [==============================] - 12s 2s/step - loss: 0.0534 - n2v_mse: 0.0534 - n2v_abs: 0.1235 - val_loss: 0.2759 - val_n2v_mse: 0.2644 - val_n2v_abs: 0.3929\n",
            "Epoch 32/50\n",
            "6/6 [==============================] - 9s 2s/step - loss: 0.0313 - n2v_mse: 0.0313 - n2v_abs: 0.1265 - val_loss: 0.2854 - val_n2v_mse: 0.2730 - val_n2v_abs: 0.3954\n",
            "Epoch 33/50\n",
            "6/6 [==============================] - 12s 2s/step - loss: 0.0540 - n2v_mse: 0.0540 - n2v_abs: 0.1324 - val_loss: 0.2685 - val_n2v_mse: 0.2568 - val_n2v_abs: 0.3814\n",
            "Epoch 34/50\n",
            "6/6 [==============================] - 12s 2s/step - loss: 0.0558 - n2v_mse: 0.0558 - n2v_abs: 0.1654 - val_loss: 0.2826 - val_n2v_mse: 0.2706 - val_n2v_abs: 0.3955\n",
            "Epoch 35/50\n",
            "6/6 [==============================] - 9s 2s/step - loss: 0.0340 - n2v_mse: 0.0340 - n2v_abs: 0.1399 - val_loss: 0.2895 - val_n2v_mse: 0.2772 - val_n2v_abs: 0.4014\n",
            "Epoch 36/50\n",
            "6/6 [==============================] - 9s 2s/step - loss: 0.0415 - n2v_mse: 0.0415 - n2v_abs: 0.1556 - val_loss: 0.2674 - val_n2v_mse: 0.2556 - val_n2v_abs: 0.3782\n",
            "Epoch 37/50\n",
            "6/6 [==============================] - 9s 2s/step - loss: 0.0842 - n2v_mse: 0.0842 - n2v_abs: 0.2190 - val_loss: 0.2388 - val_n2v_mse: 0.2278 - val_n2v_abs: 0.3479\n",
            "Epoch 38/50\n",
            "6/6 [==============================] - 13s 2s/step - loss: 0.0606 - n2v_mse: 0.0606 - n2v_abs: 0.1260 - val_loss: 0.2517 - val_n2v_mse: 0.2402 - val_n2v_abs: 0.3631\n",
            "Epoch 39/50\n",
            "6/6 [==============================] - 9s 2s/step - loss: 0.0829 - n2v_mse: 0.0829 - n2v_abs: 0.1920 - val_loss: 0.2340 - val_n2v_mse: 0.2242 - val_n2v_abs: 0.3592\n",
            "Epoch 40/50\n",
            "6/6 [==============================] - 9s 2s/step - loss: 0.0293 - n2v_mse: 0.0293 - n2v_abs: 0.1163 - val_loss: 0.2222 - val_n2v_mse: 0.2128 - val_n2v_abs: 0.3491\n",
            "Epoch 41/50\n",
            "6/6 [==============================] - 9s 2s/step - loss: 0.0275 - n2v_mse: 0.0275 - n2v_abs: 0.1121 - val_loss: 0.2232 - val_n2v_mse: 0.2138 - val_n2v_abs: 0.3523\n",
            "Epoch 42/50\n",
            "6/6 [==============================] - 12s 2s/step - loss: 0.0220 - n2v_mse: 0.0220 - n2v_abs: 0.1118 - val_loss: 0.2127 - val_n2v_mse: 0.2045 - val_n2v_abs: 0.3519\n",
            "Epoch 43/50\n",
            "6/6 [==============================] - 9s 2s/step - loss: 0.0821 - n2v_mse: 0.0821 - n2v_abs: 0.1716 - val_loss: 0.2091 - val_n2v_mse: 0.2007 - val_n2v_abs: 0.3466\n",
            "Epoch 44/50\n",
            "6/6 [==============================] - 9s 2s/step - loss: 0.0380 - n2v_mse: 0.0380 - n2v_abs: 0.1432 - val_loss: 0.2176 - val_n2v_mse: 0.2080 - val_n2v_abs: 0.3443\n",
            "Epoch 45/50\n",
            "6/6 [==============================] - 9s 2s/step - loss: 0.0342 - n2v_mse: 0.0342 - n2v_abs: 0.1422 - val_loss: 0.2164 - val_n2v_mse: 0.2072 - val_n2v_abs: 0.3462\n",
            "Epoch 46/50\n",
            "6/6 [==============================] - 13s 2s/step - loss: 0.0538 - n2v_mse: 0.0538 - n2v_abs: 0.1398 - val_loss: 0.2065 - val_n2v_mse: 0.1973 - val_n2v_abs: 0.3336\n",
            "Epoch 47/50\n",
            "6/6 [==============================] - 9s 2s/step - loss: 0.0526 - n2v_mse: 0.0526 - n2v_abs: 0.1782 - val_loss: 0.1748 - val_n2v_mse: 0.1667 - val_n2v_abs: 0.3004\n",
            "Epoch 48/50\n",
            "6/6 [==============================] - 9s 2s/step - loss: 0.0222 - n2v_mse: 0.0222 - n2v_abs: 0.1087 - val_loss: 0.1493 - val_n2v_mse: 0.1426 - val_n2v_abs: 0.2809\n",
            "Epoch 49/50\n",
            "6/6 [==============================] - 9s 2s/step - loss: 0.0259 - n2v_mse: 0.0259 - n2v_abs: 0.1082 - val_loss: 0.1539 - val_n2v_mse: 0.1474 - val_n2v_abs: 0.2940\n",
            "Epoch 50/50\n",
            "6/6 [==============================] - 15s 3s/step - loss: 0.0966 - n2v_mse: 0.0966 - n2v_abs: 0.1861 - val_loss: 0.1624 - val_n2v_mse: 0.1550 - val_n2v_abs: 0.3022\n",
            "\n",
            "Loading network weights from 'weights_best.h5'.\n"
          ]
        }
      ]
    },
    {
      "cell_type": "code",
      "source": [
        "print(sorted(list(history.history.keys())))\n",
        "plt.figure(figsize=(16,5))\n",
        "plot_history(history,['loss','val_loss']);"
      ],
      "metadata": {
        "colab": {
          "base_uri": "https://localhost:8080/",
          "height": 351
        },
        "id": "zosVapFsUgOQ",
        "outputId": "b8259610-4bb5-4bec-dc5b-186b7654b76d"
      },
      "execution_count": 63,
      "outputs": [
        {
          "output_type": "stream",
          "name": "stdout",
          "text": [
            "['loss', 'lr', 'n2v_abs', 'n2v_mse', 'val_loss', 'val_n2v_abs', 'val_n2v_mse']\n"
          ]
        },
        {
          "output_type": "display_data",
          "data": {
            "text/plain": [
              "<Figure size 1152x360 with 1 Axes>"
            ],
            "image/png": "[encoded data removed]"
          },
          "metadata": {
            "needs_background": "light"
          }
        }
      ]
    },
    {
      "cell_type": "markdown",
      "source": [
        "<h1>Denoising images using the trained model</h1>"
      ],
      "metadata": {
        "id": "oC-mypEpVcAP"
      }
    },
    {
      "cell_type": "code",
      "source": [
        "# We import all our dependencies.\n",
        "from n2v.models import N2V\n",
        "import numpy as np\n",
        "from matplotlib import pyplot as plt\n",
        "from matplotlib.image import imread, imsave\n",
        "from csbdeep.io import save_tiff_imagej_compatible"
      ],
      "metadata": {
        "id": "RiAuoWdKVjbP"
      },
      "execution_count": 64,
      "outputs": []
    },
    {
      "cell_type": "code",
      "source": [
        "# A previously trained model is loaded by creating a new N2V-object without providing a 'config'.  \n",
        "model_name = 'n2v_2D_stars'\n",
        "basedir = 'models'\n",
        "model = N2V(config=None, name=model_name, basedir=basedir)"
      ],
      "metadata": {
        "colab": {
          "base_uri": "https://localhost:8080/"
        },
        "id": "PGGIaVMNVp6-",
        "outputId": "dcfb5a11-fdb5-42dd-ff07-c585321110d7"
      },
      "execution_count": 65,
      "outputs": [
        {
          "output_type": "stream",
          "name": "stdout",
          "text": [
            "Loading network weights from 'weights_best.h5'.\n"
          ]
        }
      ]
    },
    {
      "cell_type": "markdown",
      "source": [
        "Denoising (prediction)"
      ],
      "metadata": {
        "id": "qsbBgpcRV1MC"
      }
    },
    {
      "cell_type": "code",
      "source": [
        "# We load the data we want to process.\n",
        "img = imread('/content/drive/MyDrive/Colab Notebooks/data/N2V/png_images/S4004R12.png') #S4127R03\n",
        "img.dtype"
      ],
      "metadata": {
        "colab": {
          "base_uri": "https://localhost:8080/"
        },
        "id": "Kp2RTEro-gLC",
        "outputId": "f00d3d1c-fac8-4a96-8f1d-ed6b99419380"
      },
      "execution_count": 70,
      "outputs": [
        {
          "output_type": "execute_result",
          "data": {
            "text/plain": [
              "dtype('float32')"
            ]
          },
          "metadata": {},
          "execution_count": 70
        }
      ]
    },
    {
      "cell_type": "code",
      "source": [
        "\n",
        "# Here we denoise the image (predict)\n",
        "# The parameter 'n_tiles' can be used if images are to big for the GPU memory.\n",
        "# If we do not provide the n_tiles' parameter the system will automatically try to find an appropriate tiling.\n",
        "# This can take longer.\n",
        "pred = model.predict(img, axes='YX')\n",
        "\n"
      ],
      "metadata": {
        "id": "sGo5PcZSVu6x"
      },
      "execution_count": 71,
      "outputs": []
    },
    {
      "cell_type": "code",
      "source": [
        "pred.shape"
      ],
      "metadata": {
        "colab": {
          "base_uri": "https://localhost:8080/"
        },
        "id": "G69slgeaUEqF",
        "outputId": "0e64af12-3abf-40d2-e53c-163f0fcefa95"
      },
      "execution_count": 68,
      "outputs": [
        {
          "output_type": "execute_result",
          "data": {
            "text/plain": [
              "(80, 512)"
            ]
          },
          "metadata": {},
          "execution_count": 68
        }
      ]
    },
    {
      "cell_type": "code",
      "source": [
        "# Let's look at the results.\n",
        "plt.figure(figsize=(16,8))\n",
        "plt.subplot(1,2,1)\n",
        "plt.imshow(img,cmap='gray')\n",
        "plt.title('Input');\n",
        "plt.subplot(1,2,2)\n",
        "plt.imshow(pred,cmap='gray')\n",
        "plt.title('Prediction');"
      ],
      "metadata": {
        "colab": {
          "base_uri": "https://localhost:8080/",
          "height": 127
        },
        "id": "CBfUJm7gV7oz",
        "outputId": "94f2fce3-20f0-4c74-8678-d2b6bc57923c"
      },
      "execution_count": 72,
      "outputs": [
        {
          "output_type": "display_data",
          "data": {
            "text/plain": [
              "<Figure size 1152x576 with 2 Axes>"
            ],
            "image/png": "[encoded data removed]"
          },
          "metadata": {
            "needs_background": "light"
          }
        }
      ]
    },
    {
      "cell_type": "code",
      "source": [
        "imsave('pred_train.png', pred,cmap='gray')"
      ],
      "metadata": {
        "id": "xrvgfFS_WB4b"
      },
      "execution_count": 74,
      "outputs": []
    }
  ]
}